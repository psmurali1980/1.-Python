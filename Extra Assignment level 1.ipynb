{
 "cells": [
  {
   "cell_type": "code",
   "execution_count": 1,
   "id": "a62be35a-de04-4753-acb0-96eaa23f490e",
   "metadata": {},
   "outputs": [
    {
     "name": "stdout",
     "output_type": "stream",
     "text": [
      "HOPE AI\n"
     ]
    }
   ],
   "source": [
    "print(\"HOPE AI\")"
   ]
  },
  {
   "cell_type": "code",
   "execution_count": 5,
   "id": "4b8a2160-7a55-4db5-b19e-ae24287d034b",
   "metadata": {},
   "outputs": [
    {
     "name": "stdin",
     "output_type": "stream",
     "text": [
      "Enter your institute name?: HOPE AI\n"
     ]
    }
   ],
   "source": [
    "Name=input(\"Enter your institute name?:\")"
   ]
  },
  {
   "cell_type": "code",
   "execution_count": 7,
   "id": "6a946c74-dcae-440c-87d5-d1ce7150ad0e",
   "metadata": {},
   "outputs": [
    {
     "name": "stdin",
     "output_type": "stream",
     "text": [
      "Enter your name: Raj\n",
      "Enter your age: 15\n",
      "Enter your school name: Guru school\n",
      "Enter your degree: B.E CSE\n"
     ]
    }
   ],
   "source": [
    "Name=input(\"Enter your name:\")\n",
    "Age=int(input(\"Enter your age:\"))\n",
    "Schoolname=input(\"Enter your school name:\")\n",
    "Degree=input(\"Enter your degree:\")"
   ]
  },
  {
   "cell_type": "code",
   "execution_count": 9,
   "id": "7dcef78f-ed67-4640-bb41-6253f91cb84f",
   "metadata": {},
   "outputs": [
    {
     "name": "stdin",
     "output_type": "stream",
     "text": [
      "a= 43\n",
      "b= 34\n"
     ]
    },
    {
     "name": "stdout",
     "output_type": "stream",
     "text": [
      "add= 77\n"
     ]
    }
   ],
   "source": [
    "Sum1=int(input(\"a=\"))\n",
    "Sum2=int(input(\"b=\"))\n",
    "print(\"add=\",Sum1+Sum2)"
   ]
  },
  {
   "cell_type": "code",
   "execution_count": 11,
   "id": "b06f3f78-493f-43d5-9a5f-8ad9aca88087",
   "metadata": {},
   "outputs": [
    {
     "name": "stdin",
     "output_type": "stream",
     "text": [
      "a= 43\n",
      "b= 34\n"
     ]
    },
    {
     "name": "stdout",
     "output_type": "stream",
     "text": [
      "Sub= 9\n"
     ]
    }
   ],
   "source": [
    "Sum1=int(input(\"a=\"))\n",
    "Sum2=int(input(\"b=\"))\n",
    "print(\"Sub=\",Sum1-Sum2)"
   ]
  },
  {
   "cell_type": "code",
   "execution_count": 12,
   "id": "3e46da7c-4dcd-4694-8546-f5039fd8772d",
   "metadata": {},
   "outputs": [
    {
     "name": "stdin",
     "output_type": "stream",
     "text": [
      "a= 63\n",
      "b= 97\n"
     ]
    },
    {
     "name": "stdout",
     "output_type": "stream",
     "text": [
      "Mul= 6111\n"
     ]
    }
   ],
   "source": [
    "Sum1=int(input(\"a=\"))\n",
    "Sum2=int(input(\"b=\"))\n",
    "print(\"Mul=\",Sum1*Sum2)"
   ]
  },
  {
   "cell_type": "code",
   "execution_count": 13,
   "id": "262a4e4a-e93b-440c-b742-6a8929fc1ee2",
   "metadata": {},
   "outputs": [
    {
     "name": "stdin",
     "output_type": "stream",
     "text": [
      "a= 76\n",
      "b= 31\n"
     ]
    },
    {
     "name": "stdout",
     "output_type": "stream",
     "text": [
      "Float Div= 2.4516129032258065\n"
     ]
    }
   ],
   "source": [
    "Sum1=int(input(\"a=\"))\n",
    "Sum2=int(input(\"b=\"))\n",
    "print(\"Float Div=\",Sum1/Sum2)"
   ]
  },
  {
   "cell_type": "code",
   "execution_count": 14,
   "id": "0be26b21-2195-49d7-a0f8-2f91d44063da",
   "metadata": {},
   "outputs": [
    {
     "name": "stdin",
     "output_type": "stream",
     "text": [
      "a= 76\n",
      "b= 31\n"
     ]
    },
    {
     "name": "stdout",
     "output_type": "stream",
     "text": [
      "Floor Div= 2\n"
     ]
    }
   ],
   "source": [
    "Sum1=int(input(\"a=\"))\n",
    "Sum2=int(input(\"b=\"))\n",
    "print(\"Floor Div=\",Sum1//Sum2)"
   ]
  },
  {
   "cell_type": "code",
   "execution_count": 15,
   "id": "44a42d38-13b6-42c6-a70b-c95f3a0c5751",
   "metadata": {},
   "outputs": [
    {
     "name": "stdin",
     "output_type": "stream",
     "text": [
      "a= 76\n",
      "b= 31\n"
     ]
    },
    {
     "name": "stdout",
     "output_type": "stream",
     "text": [
      "Modulo= 14\n"
     ]
    }
   ],
   "source": [
    "Sum1=int(input(\"a=\"))\n",
    "Sum2=int(input(\"b=\"))\n",
    "print(\"Modulo=\",Sum1%Sum2)"
   ]
  },
  {
   "cell_type": "code",
   "execution_count": 16,
   "id": "ff999a22-bfc0-459a-abb9-091447ee8499",
   "metadata": {},
   "outputs": [
    {
     "name": "stdin",
     "output_type": "stream",
     "text": [
      "a= 4\n",
      "b= 4\n"
     ]
    },
    {
     "name": "stdout",
     "output_type": "stream",
     "text": [
      "Power= 256\n"
     ]
    }
   ],
   "source": [
    "Sum1=int(input(\"a=\"))\n",
    "Sum2=int(input(\"b=\"))\n",
    "print(\"Power=\",Sum1**Sum2)"
   ]
  },
  {
   "cell_type": "code",
   "execution_count": null,
   "id": "3ffca910-40ec-4da1-be23-da5e610fa502",
   "metadata": {},
   "outputs": [],
   "source": []
  }
 ],
 "metadata": {
  "kernelspec": {
   "display_name": "Python 3 (ipykernel)",
   "language": "python",
   "name": "python3"
  },
  "language_info": {
   "codemirror_mode": {
    "name": "ipython",
    "version": 3
   },
   "file_extension": ".py",
   "mimetype": "text/x-python",
   "name": "python",
   "nbconvert_exporter": "python",
   "pygments_lexer": "ipython3",
   "version": "3.11.7"
  }
 },
 "nbformat": 4,
 "nbformat_minor": 5
}
