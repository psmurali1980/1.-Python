{
 "cells": [
  {
   "cell_type": "code",
   "execution_count": 6,
   "id": "d2e3630f-850a-49f6-b00a-6fcf78b2dd19",
   "metadata": {},
   "outputs": [],
   "source": [
    "from multipleFunction import multipleFunction"
   ]
  },
  {
   "cell_type": "code",
   "execution_count": 7,
   "id": "cb164253-d1ce-489b-b20e-4452292c8414",
   "metadata": {},
   "outputs": [
    {
     "name": "stdin",
     "output_type": "stream",
     "text": [
      "Subject 1= 98\n",
      "Subject 2= 97\n",
      "Subject 3= 96\n",
      "Subject 4= 95\n",
      "Subject 5= 94\n"
     ]
    },
    {
     "name": "stdout",
     "output_type": "stream",
     "text": [
      "Total: 480\n",
      "Percentage: 96.0\n"
     ]
    }
   ],
   "source": [
    "multipleFunction.percentage()"
   ]
  },
  {
   "cell_type": "code",
   "execution_count": 8,
   "id": "975091af-51e1-4edc-b82a-60ebdb85f91b",
   "metadata": {},
   "outputs": [
    {
     "name": "stdin",
     "output_type": "stream",
     "text": [
      "Height: 32\n",
      "Breadth: 43\n"
     ]
    },
    {
     "name": "stdout",
     "output_type": "stream",
     "text": [
      "Area of Triangle: 688.0\n"
     ]
    },
    {
     "name": "stdin",
     "output_type": "stream",
     "text": [
      "Height1: 2\n",
      "Height2: 4\n",
      "Breadth1: 4\n"
     ]
    },
    {
     "name": "stdout",
     "output_type": "stream",
     "text": [
      "Perimeter of Triangle: 10\n"
     ]
    }
   ],
   "source": [
    "multipleFunction.triangle()"
   ]
  },
  {
   "cell_type": "code",
   "execution_count": 9,
   "id": "6834c4d1-0654-4aa1-a9ab-8456ccbc9d0a",
   "metadata": {},
   "outputs": [
    {
     "name": "stdout",
     "output_type": "stream",
     "text": [
      "Sub-fields in AI are:\n",
      "Machine learning\n",
      "Neural Network\n",
      "Vision\n",
      "Robotics\n",
      "Speech Processing\n",
      "Natural Language Processing\n"
     ]
    }
   ],
   "source": [
    "multipleFunction.SubfieldsInAI_Subfields()"
   ]
  },
  {
   "cell_type": "code",
   "execution_count": 10,
   "id": "df6a20ed-dd26-459e-a890-2b8fe0b26d8b",
   "metadata": {},
   "outputs": [
    {
     "name": "stdin",
     "output_type": "stream",
     "text": [
      "Your Gender: Male\n",
      "Your Age: 29\n"
     ]
    },
    {
     "name": "stdout",
     "output_type": "stream",
     "text": [
      "Elegible for Marriage\n"
     ]
    }
   ],
   "source": [
    "multipleFunction.ElegibilityforMarriage_Elegible()"
   ]
  },
  {
   "cell_type": "code",
   "execution_count": 11,
   "id": "3cfe6544-77cb-42eb-ba23-76fb81f58441",
   "metadata": {},
   "outputs": [
    {
     "name": "stdin",
     "output_type": "stream",
     "text": [
      "Enter a Number: 45\n"
     ]
    },
    {
     "name": "stdout",
     "output_type": "stream",
     "text": [
      "45 is Odd number\n"
     ]
    }
   ],
   "source": [
    "multipleFunction.OddEven_OddEven()"
   ]
  },
  {
   "cell_type": "code",
   "execution_count": null,
   "id": "8bd25e2e-6a2e-41e3-9845-6740e839a742",
   "metadata": {},
   "outputs": [],
   "source": []
  }
 ],
 "metadata": {
  "kernelspec": {
   "display_name": "Python 3 (ipykernel)",
   "language": "python",
   "name": "python3"
  },
  "language_info": {
   "codemirror_mode": {
    "name": "ipython",
    "version": 3
   },
   "file_extension": ".py",
   "mimetype": "text/x-python",
   "name": "python",
   "nbconvert_exporter": "python",
   "pygments_lexer": "ipython3",
   "version": "3.11.7"
  }
 },
 "nbformat": 4,
 "nbformat_minor": 5
}
