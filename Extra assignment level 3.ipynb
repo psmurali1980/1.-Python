{
 "cells": [
  {
   "cell_type": "code",
   "execution_count": 1,
   "id": "eab3dacf-fda9-4f5c-a7ae-57e75f79b555",
   "metadata": {},
   "outputs": [
    {
     "name": "stdin",
     "output_type": "stream",
     "text": [
      "Value: 10\n"
     ]
    },
    {
     "name": "stdout",
     "output_type": "stream",
     "text": [
      "Correct\n"
     ]
    }
   ],
   "source": [
    "i = int(input(\"Value:\"))\n",
    "if i == 10:\n",
    "    print(\"Correct\")"
   ]
  },
  {
   "cell_type": "code",
   "execution_count": 17,
   "id": "c8996961-a80a-459c-a59c-3f76c365128b",
   "metadata": {},
   "outputs": [
    {
     "name": "stdin",
     "output_type": "stream",
     "text": [
      "Enter the password: HOPE@123\n"
     ]
    },
    {
     "name": "stdout",
     "output_type": "stream",
     "text": [
      "Your password is Correct\n"
     ]
    }
   ],
   "source": [
    "password = input(\"Enter the password:\")\n",
    "if (password == \"HOPE@123\"):\n",
    "    print(\"Your password is Correct\")\n",
    "else:\n",
    "    print(\"Wrong\")"
   ]
  },
  {
   "cell_type": "code",
   "execution_count": 18,
   "id": "59ee755d-3252-4e38-98bf-170c0d11923f",
   "metadata": {},
   "outputs": [
    {
     "name": "stdin",
     "output_type": "stream",
     "text": [
      "age: 20\n"
     ]
    },
    {
     "name": "stdout",
     "output_type": "stream",
     "text": [
      "Adult\n"
     ]
    }
   ],
   "source": [
    "Age=int(input(\"age:\"))\n",
    "if Age<18:\n",
    "    print(\"Children\")\n",
    "elif Age<35:\n",
    "    print(\"Adult\")\n",
    "elif Age<60:\n",
    "    print(\"Citizen\")\n",
    "else:\n",
    "    print(\"Senior Citizen\")"
   ]
  },
  {
   "cell_type": "code",
   "execution_count": 20,
   "id": "7705c0c4-e071-4737-a7e0-856c3afd204a",
   "metadata": {},
   "outputs": [
    {
     "name": "stdin",
     "output_type": "stream",
     "text": [
      "Enter any number: 1\n"
     ]
    },
    {
     "name": "stdout",
     "output_type": "stream",
     "text": [
      "No is Positive\n"
     ]
    }
   ],
   "source": [
    "Num=int(input(\"Enter any number:\"))\n",
    "if Num<0:\n",
    "    print(\"No is Negative\")\n",
    "else:\n",
    "    print(\"No is Positive\")"
   ]
  },
  {
   "cell_type": "code",
   "execution_count": 23,
   "id": "45704898-7686-41f3-8bef-f209949df3e8",
   "metadata": {},
   "outputs": [
    {
     "name": "stdin",
     "output_type": "stream",
     "text": [
      "Enter a number to check: 22\n"
     ]
    },
    {
     "name": "stdout",
     "output_type": "stream",
     "text": [
      "No is not divisible by 5\n"
     ]
    }
   ],
   "source": [
    "Num=int(input(\"Enter a number to check:\"))\n",
    "if Num %5==0:\n",
    "    print(\"No is divisible by 5\")\n",
    "else:\n",
    "    print(\"No is not divisible by 5\")"
   ]
  }
 ],
 "metadata": {
  "kernelspec": {
   "display_name": "Python 3 (ipykernel)",
   "language": "python",
   "name": "python3"
  },
  "language_info": {
   "codemirror_mode": {
    "name": "ipython",
    "version": 3
   },
   "file_extension": ".py",
   "mimetype": "text/x-python",
   "name": "python",
   "nbconvert_exporter": "python",
   "pygments_lexer": "ipython3",
   "version": "3.11.7"
  }
 },
 "nbformat": 4,
 "nbformat_minor": 5
}
