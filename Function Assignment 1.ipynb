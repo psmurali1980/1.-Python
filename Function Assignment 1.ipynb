{
 "cells": [
  {
   "cell_type": "code",
   "execution_count": 18,
   "id": "d1d7d267-4479-4768-983d-544b365e569a",
   "metadata": {},
   "outputs": [
    {
     "name": "stdout",
     "output_type": "stream",
     "text": [
      "Sub-fields in AI are:\n",
      "Machine learning\n",
      "Neural Network\n",
      "Vision\n",
      "Robotics\n",
      "Speech Processing\n",
      "Natural Language Processing\n"
     ]
    }
   ],
   "source": [
    "def SubfieldsInAI_Subfields():\n",
    "    print(\"Sub-fields in AI are:\")\n",
    "    list=(\"Machine learning\", \"Neural Network\", \"Vision\", \"Robotics\", \"Speech Processing\", \"Natural Language Processing\")\n",
    "    for Name in list:\n",
    "        print(Name)\n",
    "SubfieldsInAI_Subfields()"
   ]
  },
  {
   "cell_type": "code",
   "execution_count": 21,
   "id": "d9d86e3d-44a6-41ba-95f4-5da0becb5bb8",
   "metadata": {},
   "outputs": [
    {
     "name": "stdin",
     "output_type": "stream",
     "text": [
      "Enter a Number: 52452\n"
     ]
    },
    {
     "name": "stdout",
     "output_type": "stream",
     "text": [
      "52452 is Even number\n"
     ]
    }
   ],
   "source": [
    "def OddEven_OddEven():\n",
    "    Num=int(input(\"Enter a Number:\"))\n",
    "    if Num %2 ==0:\n",
    "        print(Num,\"is Even number\")\n",
    "    else:\n",
    "        print(Num,\"is Odd number\")\n",
    "\n",
    "OddEven_OddEven()"
   ]
  },
  {
   "cell_type": "code",
   "execution_count": 22,
   "id": "69208f92-6744-42cf-a91b-c543f9f10d85",
   "metadata": {},
   "outputs": [],
   "source": [
    "def ElegibilityforMarriage_Elegible():\n",
    "    Gender=input(\"Your Gender:\")\n",
    "    Age=int(input(\"Your Age:\"))\n",
    "    if Gender == \"Female\":\n",
    "        if Age>=18:\n",
    "            print(\"Elegible for Marriage\")\n",
    "        else:\n",
    "            print(\"Not Elegible for Marriage\")\n",
    "\n",
    "    elif Gender == \"Male\":\n",
    "        if Age>=21:\n",
    "            print(\"Elegible for Marriage\")\n",
    "        else:\n",
    "            print(\"Not elegible for Marriage\")"
   ]
  },
  {
   "cell_type": "code",
   "execution_count": 23,
   "id": "0ea27ff3-4d20-4dc3-b6a0-6e58e8aeed63",
   "metadata": {},
   "outputs": [
    {
     "name": "stdin",
     "output_type": "stream",
     "text": [
      "Your Gender: Male\n",
      "Your Age: 20\n"
     ]
    },
    {
     "name": "stdout",
     "output_type": "stream",
     "text": [
      "Not elegible for Marriage\n"
     ]
    }
   ],
   "source": [
    "ElegibilityforMarriage_Elegible()"
   ]
  },
  {
   "cell_type": "code",
   "execution_count": 10,
   "id": "e78bb899-85b4-4dfc-8d06-2fd4c4c9570d",
   "metadata": {},
   "outputs": [
    {
     "name": "stdin",
     "output_type": "stream",
     "text": [
      "Subject 1= 98\n",
      "Subject 2= 87\n",
      "Subject 3= 95\n",
      "Subject 4= 95\n",
      "Subject 5= 93\n"
     ]
    },
    {
     "name": "stdout",
     "output_type": "stream",
     "text": [
      "Total: 468\n",
      "Percentage: 93.60000000000001\n"
     ]
    }
   ],
   "source": [
    "def percentage():\n",
    "    sub1=int(input(\"Subject 1=\"))\n",
    "    sub2=int(input(\"Subject 2=\"))\n",
    "    sub3=int(input(\"Subject 3=\"))\n",
    "    sub4=int(input(\"Subject 4=\"))\n",
    "    sub5=int(input(\"Subject 5=\"))\n",
    "    total=sub1+sub2+sub3+sub4+sub5\n",
    "    print(\"Total:\", total)\n",
    "    percent=total/500 * 100\n",
    "    percentage=percent\n",
    "    print(\"Percentage:\",percentage)\n",
    "\n",
    "percentage()"
   ]
  },
  {
   "cell_type": "code",
   "execution_count": 17,
   "id": "6d731c68-e8b1-43b2-8891-6345e7f3f529",
   "metadata": {},
   "outputs": [
    {
     "name": "stdin",
     "output_type": "stream",
     "text": [
      "Height: 32\n",
      "Breadth: 34\n"
     ]
    },
    {
     "name": "stdout",
     "output_type": "stream",
     "text": [
      "Area of Triangle: 544.0\n"
     ]
    },
    {
     "name": "stdin",
     "output_type": "stream",
     "text": [
      "Height1: 2\n",
      "Height2: 4\n",
      "Breadth1: 4\n"
     ]
    },
    {
     "name": "stdout",
     "output_type": "stream",
     "text": [
      "Perimeter of Triangle: 10\n"
     ]
    }
   ],
   "source": [
    "def triangle():\n",
    "\n",
    "    H=int(input(\"Height:\"))\n",
    "    B=int(input(\"Breadth:\"))\n",
    "    Area = (H*B)/2\n",
    "    print(\"Area of Triangle:\",Area)\n",
    "    H1=int(input(\"Height1:\"))\n",
    "    H2=int(input(\"Height2:\"))\n",
    "    B1=int(input(\"Breadth1:\"))\n",
    "    perimeter=H1+H2+B1\n",
    "    print(\"Perimeter of Triangle:\",perimeter)\n",
    "\n",
    "triangle()"
   ]
  },
  {
   "cell_type": "code",
   "execution_count": null,
   "id": "ec3cdd97-612a-47d8-bf41-afad6f4d96dc",
   "metadata": {},
   "outputs": [],
   "source": []
  }
 ],
 "metadata": {
  "kernelspec": {
   "display_name": "Python 3 (ipykernel)",
   "language": "python",
   "name": "python3"
  },
  "language_info": {
   "codemirror_mode": {
    "name": "ipython",
    "version": 3
   },
   "file_extension": ".py",
   "mimetype": "text/x-python",
   "name": "python",
   "nbconvert_exporter": "python",
   "pygments_lexer": "ipython3",
   "version": "3.11.7"
  }
 },
 "nbformat": 4,
 "nbformat_minor": 5
}
